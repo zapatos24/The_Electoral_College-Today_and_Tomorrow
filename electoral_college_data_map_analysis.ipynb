{
 "cells": [
  {
   "cell_type": "markdown",
   "metadata": {},
   "source": [
    "# Electoral College Data Analysis"
   ]
  },
  {
   "cell_type": "markdown",
   "metadata": {},
   "source": [
    "The purpose of this project is to analyze the how the electoral college votes were distributed after the 2010 census, look at how the redistribution of population (by estimate) has shifted over time until today, and what that means for the voter per electoral college vote in each state. I will also analyze how we expect the electoral college to be redistributed after the 2020 census, given census bureau predictions.\n",
    "\n",
    "An analysis will also be performed on the percentage likelihood of each state giving its electoral college votes to a particular party and their respective nominees, based purely on historical data. The aim is to demonstrate which states have the greatest power per vote, given both their current electoral votes allotted and the likelihood of that state assigning thier votes to either candidate."
   ]
  },
  {
   "cell_type": "markdown",
   "metadata": {},
   "source": [
    "### Vizualizations\n",
    "- viz of state pops over time (5 lowest, 5 highest)\n",
    "- animation of voter potency (voters / electoral vote)\n",
    "- electoral votes w/ new census - forecasted\n",
    "- electoral votes w/ 2019 numbers\n",
    "- voter potency w/ new census\n",
    "- guaranteed (statistically) electoral votes for each party\n",
    "- swing states and leanings and votes"
   ]
  },
  {
   "cell_type": "markdown",
   "metadata": {},
   "source": [
    "## Import"
   ]
  },
  {
   "cell_type": "code",
   "execution_count": 133,
   "metadata": {},
   "outputs": [],
   "source": [
    "#import necessary libraries\n",
    "\n",
    "import pandas as pd\n",
    "import numpy as np\n",
    "import matplotlib.pyplot as plt\n",
    "\n",
    "import warnings\n",
    "import logging\n",
    "\n",
    "import requests\n",
    "import json\n",
    "import copy\n",
    "\n",
    "from fbprophet import Prophet\n",
    "\n",
    "import sqlite3\n",
    "%matplotlib inline"
   ]
  },
  {
   "cell_type": "code",
   "execution_count": 2,
   "metadata": {},
   "outputs": [],
   "source": [
    "def reciprocal_geometric_mean(next_house_seat):\n",
    "    \"\"\"\n",
    "    Calculates the reciprocal geometric mean for the next house seat a state could potentially receive\n",
    "    \"\"\"\n",
    "    return 1 / np.sqrt(next_house_seat*(next_house_seat-1))"
   ]
  },
  {
   "cell_type": "code",
   "execution_count": 3,
   "metadata": {},
   "outputs": [],
   "source": [
    "def priority_value(state_pop, next_house_seat):\n",
    "    \"\"\"\n",
    "    Calculates the priority value a state has for receiving another house seat.\n",
    "    The highest priority value state gets the next house seat available.\n",
    "    \"\"\"\n",
    "    return int(round(state_pop * reciprocal_geometric_mean(next_house_seat), 0))"
   ]
  },
  {
   "cell_type": "code",
   "execution_count": 4,
   "metadata": {},
   "outputs": [],
   "source": [
    "def distribute_house_seats(state_dict):\n",
    "    \"\"\"\n",
    "    Iterates through all available house seats after initial 50 are distributed (one to each state)\n",
    "    to determine who should get each next house seat according to priority value\n",
    "    \"\"\"\n",
    "        \n",
    "    distributed_dict = copy.deepcopy(state_dict)\n",
    "    #iterates over all available house seats, range chosen for actual house seat being evaluated\n",
    "    #whichever state is highest, add one house seat and recalculate the priority value\n",
    "    for i in range(51, 436):\n",
    "        next_state = assign_next_seat(distributed_dict)\n",
    "        distributed_dict[next_state]['House_seats'] += 1\n",
    "        distributed_dict[next_state]['Priority_value'] = priority_value(distributed_dict[next_state]['Population'], \n",
    "                                                                        distributed_dict[next_state]['House_seats']+1)\n",
    "    \n",
    "    #return the dictionary with properly distributed house seats    \n",
    "    return distributed_dict"
   ]
  },
  {
   "cell_type": "code",
   "execution_count": 5,
   "metadata": {},
   "outputs": [],
   "source": [
    "def assign_next_seat(distributed_dict):\n",
    "    \"\"\"\n",
    "    Assigns the next house seat available according to current priority values for each state\n",
    "    Returns a list with the first value as the state who should get the next seat\n",
    "    \"\"\"\n",
    "    top_value = [\"\",0]\n",
    "    \n",
    "    #iterate through the dictionary keys and keep the state and value for whoever has the \n",
    "    #highest priority value\n",
    "    for state in distributed_dict.keys():\n",
    "        if distributed_dict[state]['Priority_value'] > top_value[1]:\n",
    "            top_value = [state, distributed_dict[state]['Priority_value']]  \n",
    "    \n",
    "    #return just the state with the top priority value\n",
    "    return top_value[0]"
   ]
  },
  {
   "cell_type": "code",
   "execution_count": 23,
   "metadata": {},
   "outputs": [],
   "source": [
    "def sql_response_to_csv(c, cols, doc_name):\n",
    "    rows_list = []\n",
    "    response = c.fetchall()\n",
    "    \n",
    "    query_col_count = len(response[0])\n",
    "    passed_col_count = len(cols)\n",
    "    if query_col_count != passed_col_count:\n",
    "        return \"Did not convert to CSV. Number of columns in SQL query ({}) does not match number of \\\n",
    "                passed columns ({})\".format(query_col_count, passed_col_count)\n",
    "\n",
    "    for item in response:\n",
    "        temp_dict = {}\n",
    "        for i in range(len(cols)):\n",
    "            temp_dict.update({cols[i]: item[i]})\n",
    "        rows_list.append(temp_dict)\n",
    "\n",
    "    df = pd.DataFrame(rows_list).drop('id', axis=1)\n",
    "    df.to_csv(doc_name, index=False)\n",
    "    \n",
    "    return df"
   ]
  },
  {
   "cell_type": "code",
   "execution_count": 138,
   "metadata": {
    "scrolled": false
   },
   "outputs": [],
   "source": [
    "def predict_2020_census(pop_df):   \n",
    "    # Turn off pystan warnings\n",
    "    warnings.simplefilter(\"ignore\", DeprecationWarning)\n",
    "    warnings.simplefilter(\"ignore\", FutureWarning)\n",
    "\n",
    "    # Turn off fbprophet stdout logger\n",
    "    logging.getLogger('fbprophet').setLevel(logging.ERROR)\n",
    "\n",
    "    #the list that will contain all predicted total populations for all states in 2020\n",
    "    pop_pred_2020 = []\n",
    "\n",
    "    for state in population_df['state'].unique():\n",
    "        #subset full population dataframe to just current state and turn the years to datetime objects\n",
    "        state_df = population_df[population_df['state'] == state].copy()\n",
    "        state_df['year'] = pd.to_datetime(state_df['year'], format=\"%Y\")\n",
    "\n",
    "        #calculate the total population of the state, then remove all columns but year and total_pop\n",
    "        state_df['total_pop'] = state_df['pop'] + state_df['overseas_pop']\n",
    "        state_df.drop(['state', 'pop', 'overseas_pop'], axis=1, inplace=True)\n",
    "\n",
    "        #set the year as the index, resample and interpolate values (otherwise Prophet doesn't have enough\n",
    "        #data to find the potential changepoints) and make the population estimate an integer\n",
    "        state_df.set_index('year', inplace=True)\n",
    "        state_df = state_df.resample('BMS').asfreq()\n",
    "        state_df.interpolate(inplace=True)\n",
    "        state_df = state_df.astype({'total_pop': 'int64'})\n",
    "\n",
    "        #reset the index to standard sequential numbers and rename the columns for Prophet modeling\n",
    "        state_df.reset_index(inplace=True)\n",
    "        state_df.rename({'year': 'ds', 'total_pop': 'y'}, axis =1, inplace=True)\n",
    "\n",
    "        #create the Prophet object, fit it, make a dataframe including months moving forward and predict values\n",
    "        model=Prophet()\n",
    "        model.fit(state_df)\n",
    "        future = model.make_future_dataframe(periods=12, freq='BMS')\n",
    "        forecast = model.predict(future)\n",
    "\n",
    "        #take the predicted value for 2020 and add it to the prediction dictionary\n",
    "        pred_2020 = int(forecast[forecast['ds'] == '2020'].yhat.values[0])\n",
    "        pop_pred_2020.append({'state': state, 'pop_2020': pred_2020})\n",
    "    \n",
    "    #return a dataframe of the predicted population values\n",
    "    return pd.DataFrame(pop_pred_2020)"
   ]
  },
  {
   "cell_type": "markdown",
   "metadata": {},
   "source": [
    "## Pull Data for Analysis"
   ]
  },
  {
   "cell_type": "markdown",
   "metadata": {},
   "source": [
    "We start our analysis in 1980 as that year was the one of the biggest landslide victories (489 electoral votes for Reagan, only 49 for Jimmy Carter) in recent history (https://www.270towin.com/historical-presidential-elections/timeline/). It therefore serves as a decent starting point for how states have adjusted in their voting preferences over time. It also serves as a pivotal point in the structure of the political parties and how the populace aligns themselves politically. The Republican party, with that election, adopted Reaganomics, which is still largely followed by that party in today's climate."
   ]
  },
  {
   "cell_type": "code",
   "execution_count": 7,
   "metadata": {},
   "outputs": [],
   "source": [
    "conn = sqlite3.connect('census_pop_data.db')\n",
    "c = conn.cursor()"
   ]
  },
  {
   "cell_type": "code",
   "execution_count": 8,
   "metadata": {},
   "outputs": [
    {
     "data": {
      "text/html": [
       "<div>\n",
       "<style scoped>\n",
       "    .dataframe tbody tr th:only-of-type {\n",
       "        vertical-align: middle;\n",
       "    }\n",
       "\n",
       "    .dataframe tbody tr th {\n",
       "        vertical-align: top;\n",
       "    }\n",
       "\n",
       "    .dataframe thead th {\n",
       "        text-align: right;\n",
       "    }\n",
       "</style>\n",
       "<table border=\"1\" class=\"dataframe\">\n",
       "  <thead>\n",
       "    <tr style=\"text-align: right;\">\n",
       "      <th></th>\n",
       "      <th>year</th>\n",
       "      <th>state</th>\n",
       "      <th>dem_cand</th>\n",
       "      <th>dem_vote</th>\n",
       "      <th>rep_cand</th>\n",
       "      <th>rep_vote</th>\n",
       "      <th>tot_state_vote</th>\n",
       "    </tr>\n",
       "  </thead>\n",
       "  <tbody>\n",
       "    <tr>\n",
       "      <td>0</td>\n",
       "      <td>1980</td>\n",
       "      <td>Alaska</td>\n",
       "      <td>Carter, Jimmy</td>\n",
       "      <td>41842</td>\n",
       "      <td>Reagan, Ronald</td>\n",
       "      <td>86112</td>\n",
       "      <td>158445</td>\n",
       "    </tr>\n",
       "    <tr>\n",
       "      <td>1</td>\n",
       "      <td>1980</td>\n",
       "      <td>Arizona</td>\n",
       "      <td>Carter, Jimmy</td>\n",
       "      <td>246843</td>\n",
       "      <td>Reagan, Ronald</td>\n",
       "      <td>529688</td>\n",
       "      <td>873945</td>\n",
       "    </tr>\n",
       "    <tr>\n",
       "      <td>2</td>\n",
       "      <td>1980</td>\n",
       "      <td>Arkansas</td>\n",
       "      <td>Carter, Jimmy</td>\n",
       "      <td>398041</td>\n",
       "      <td>Reagan, Ronald</td>\n",
       "      <td>403164</td>\n",
       "      <td>837582</td>\n",
       "    </tr>\n",
       "    <tr>\n",
       "      <td>3</td>\n",
       "      <td>1980</td>\n",
       "      <td>California</td>\n",
       "      <td>Carter, Jimmy</td>\n",
       "      <td>3082943</td>\n",
       "      <td>Reagan, Ronald</td>\n",
       "      <td>4522994</td>\n",
       "      <td>8582938</td>\n",
       "    </tr>\n",
       "    <tr>\n",
       "      <td>4</td>\n",
       "      <td>1980</td>\n",
       "      <td>Colorado</td>\n",
       "      <td>Carter, Jimmy</td>\n",
       "      <td>368009</td>\n",
       "      <td>Reagan, Ronald</td>\n",
       "      <td>652264</td>\n",
       "      <td>1184450</td>\n",
       "    </tr>\n",
       "  </tbody>\n",
       "</table>\n",
       "</div>"
      ],
      "text/plain": [
       "   year       state       dem_cand  dem_vote        rep_cand  rep_vote  \\\n",
       "0  1980      Alaska  Carter, Jimmy     41842  Reagan, Ronald     86112   \n",
       "1  1980     Arizona  Carter, Jimmy    246843  Reagan, Ronald    529688   \n",
       "2  1980    Arkansas  Carter, Jimmy    398041  Reagan, Ronald    403164   \n",
       "3  1980  California  Carter, Jimmy   3082943  Reagan, Ronald   4522994   \n",
       "4  1980    Colorado  Carter, Jimmy    368009  Reagan, Ronald    652264   \n",
       "\n",
       "   tot_state_vote  \n",
       "0          158445  \n",
       "1          873945  \n",
       "2          837582  \n",
       "3         8582938  \n",
       "4         1184450  "
      ]
     },
     "metadata": {},
     "output_type": "display_data"
    },
    {
     "name": "stdout",
     "output_type": "stream",
     "text": [
      "<class 'pandas.core.frame.DataFrame'>\n",
      "RangeIndex: 509 entries, 0 to 508\n",
      "Data columns (total 7 columns):\n",
      "year              509 non-null int64\n",
      "state             509 non-null object\n",
      "dem_cand          509 non-null object\n",
      "dem_vote          509 non-null int64\n",
      "rep_cand          509 non-null object\n",
      "rep_vote          509 non-null int64\n",
      "tot_state_vote    509 non-null int64\n",
      "dtypes: int64(4), object(3)\n",
      "memory usage: 28.0+ KB\n"
     ]
    },
    {
     "data": {
      "text/plain": [
       "None"
      ]
     },
     "metadata": {},
     "output_type": "display_data"
    }
   ],
   "source": [
    "c.execute('SELECT * \\\n",
    "           FROM election_results \\\n",
    "           WHERE year >= 1980 AND state NOT IN (\"Puerto Rico\") \\\n",
    "           ORDER BY year, state')\n",
    "\n",
    "columns=['id', 'year', 'state', 'dem_cand', 'dem_vote', 'rep_cand', 'rep_vote', 'tot_state_vote']\n",
    "\n",
    "election_results_df = sql_response_to_csv(c, columns, 'cleaned_election_results_1980.csv')\n",
    "    \n",
    "display(election_results_df.head())\n",
    "display(election_results_df.info())"
   ]
  },
  {
   "cell_type": "code",
   "execution_count": 128,
   "metadata": {},
   "outputs": [
    {
     "data": {
      "text/html": [
       "<div>\n",
       "<style scoped>\n",
       "    .dataframe tbody tr th:only-of-type {\n",
       "        vertical-align: middle;\n",
       "    }\n",
       "\n",
       "    .dataframe tbody tr th {\n",
       "        vertical-align: top;\n",
       "    }\n",
       "\n",
       "    .dataframe thead th {\n",
       "        text-align: right;\n",
       "    }\n",
       "</style>\n",
       "<table border=\"1\" class=\"dataframe\">\n",
       "  <thead>\n",
       "    <tr style=\"text-align: right;\">\n",
       "      <th></th>\n",
       "      <th>year</th>\n",
       "      <th>state</th>\n",
       "      <th>pop</th>\n",
       "      <th>overseas_pop</th>\n",
       "    </tr>\n",
       "  </thead>\n",
       "  <tbody>\n",
       "    <tr>\n",
       "      <td>0</td>\n",
       "      <td>2010</td>\n",
       "      <td>Alabama</td>\n",
       "      <td>4779736</td>\n",
       "      <td>23246</td>\n",
       "    </tr>\n",
       "    <tr>\n",
       "      <td>1</td>\n",
       "      <td>2011</td>\n",
       "      <td>Alabama</td>\n",
       "      <td>4799069</td>\n",
       "      <td>23340</td>\n",
       "    </tr>\n",
       "    <tr>\n",
       "      <td>2</td>\n",
       "      <td>2012</td>\n",
       "      <td>Alabama</td>\n",
       "      <td>4815588</td>\n",
       "      <td>23420</td>\n",
       "    </tr>\n",
       "    <tr>\n",
       "      <td>3</td>\n",
       "      <td>2013</td>\n",
       "      <td>Alabama</td>\n",
       "      <td>4830081</td>\n",
       "      <td>23490</td>\n",
       "    </tr>\n",
       "    <tr>\n",
       "      <td>4</td>\n",
       "      <td>2014</td>\n",
       "      <td>Alabama</td>\n",
       "      <td>4841799</td>\n",
       "      <td>23547</td>\n",
       "    </tr>\n",
       "  </tbody>\n",
       "</table>\n",
       "</div>"
      ],
      "text/plain": [
       "   year    state      pop  overseas_pop\n",
       "0  2010  Alabama  4779736         23246\n",
       "1  2011  Alabama  4799069         23340\n",
       "2  2012  Alabama  4815588         23420\n",
       "3  2013  Alabama  4830081         23490\n",
       "4  2014  Alabama  4841799         23547"
      ]
     },
     "metadata": {},
     "output_type": "display_data"
    },
    {
     "name": "stdout",
     "output_type": "stream",
     "text": [
      "<class 'pandas.core.frame.DataFrame'>\n",
      "RangeIndex: 510 entries, 0 to 509\n",
      "Data columns (total 4 columns):\n",
      "year            510 non-null int64\n",
      "state           510 non-null object\n",
      "pop             510 non-null int64\n",
      "overseas_pop    510 non-null int64\n",
      "dtypes: int64(3), object(1)\n",
      "memory usage: 16.1+ KB\n"
     ]
    },
    {
     "data": {
      "text/plain": [
       "None"
      ]
     },
     "metadata": {},
     "output_type": "display_data"
    }
   ],
   "source": [
    "c.execute('SELECT * \\\n",
    "           FROM population \\\n",
    "           WHERE state NOT IN (\"Puerto Rico\") \\\n",
    "           ORDER BY state, year')\n",
    "\n",
    "columns=['id', 'year', 'state', 'pop', 'overseas_pop']\n",
    "\n",
    "population_df = sql_response_to_csv(c, columns, 'cleaned_population_2010.csv')\n",
    "    \n",
    "display(population_df.head())\n",
    "display(population_df.info())"
   ]
  },
  {
   "cell_type": "code",
   "execution_count": 10,
   "metadata": {},
   "outputs": [
    {
     "data": {
      "text/html": [
       "<div>\n",
       "<style scoped>\n",
       "    .dataframe tbody tr th:only-of-type {\n",
       "        vertical-align: middle;\n",
       "    }\n",
       "\n",
       "    .dataframe tbody tr th {\n",
       "        vertical-align: top;\n",
       "    }\n",
       "\n",
       "    .dataframe thead th {\n",
       "        text-align: right;\n",
       "    }\n",
       "</style>\n",
       "<table border=\"1\" class=\"dataframe\">\n",
       "  <thead>\n",
       "    <tr style=\"text-align: right;\">\n",
       "      <th></th>\n",
       "      <th>state</th>\n",
       "      <th>status</th>\n",
       "    </tr>\n",
       "  </thead>\n",
       "  <tbody>\n",
       "    <tr>\n",
       "      <td>0</td>\n",
       "      <td>Alaska</td>\n",
       "      <td>0.0</td>\n",
       "    </tr>\n",
       "    <tr>\n",
       "      <td>1</td>\n",
       "      <td>Arizona</td>\n",
       "      <td>0.5</td>\n",
       "    </tr>\n",
       "    <tr>\n",
       "      <td>2</td>\n",
       "      <td>Arkansas</td>\n",
       "      <td>0.5</td>\n",
       "    </tr>\n",
       "    <tr>\n",
       "      <td>3</td>\n",
       "      <td>California</td>\n",
       "      <td>1.0</td>\n",
       "    </tr>\n",
       "    <tr>\n",
       "      <td>4</td>\n",
       "      <td>Colorado</td>\n",
       "      <td>1.0</td>\n",
       "    </tr>\n",
       "  </tbody>\n",
       "</table>\n",
       "</div>"
      ],
      "text/plain": [
       "        state  status\n",
       "0      Alaska     0.0\n",
       "1     Arizona     0.5\n",
       "2    Arkansas     0.5\n",
       "3  California     1.0\n",
       "4    Colorado     1.0"
      ]
     },
     "metadata": {},
     "output_type": "display_data"
    },
    {
     "name": "stdout",
     "output_type": "stream",
     "text": [
      "<class 'pandas.core.frame.DataFrame'>\n",
      "RangeIndex: 50 entries, 0 to 49\n",
      "Data columns (total 2 columns):\n",
      "state     50 non-null object\n",
      "status    50 non-null float64\n",
      "dtypes: float64(1), object(1)\n",
      "memory usage: 928.0+ bytes\n"
     ]
    },
    {
     "data": {
      "text/plain": [
       "None"
      ]
     },
     "metadata": {},
     "output_type": "display_data"
    }
   ],
   "source": [
    "c.execute('SELECT * \\\n",
    "           FROM npvic_status \\\n",
    "           WHERE state NOT IN (\"Puerto Rico\") \\\n",
    "           ORDER BY state')\n",
    "\n",
    "columns=['id', 'state', 'status']\n",
    "\n",
    "npvic_df = sql_response_to_csv(c, columns, 'cleaned_npvic_status.csv')\n",
    "    \n",
    "display(npvic_df.head())\n",
    "display(npvic_df.info())"
   ]
  },
  {
   "cell_type": "code",
   "execution_count": 136,
   "metadata": {},
   "outputs": [],
   "source": [
    "pred_2020_df = predict_2020_census(population_df)\n",
    "pred_2020_df.to_csv('population_prediction_2020.csv', index=False)"
   ]
  },
  {
   "cell_type": "markdown",
   "metadata": {},
   "source": [
    "### Test Priority Value and Seat Assignment functions"
   ]
  },
  {
   "cell_type": "markdown",
   "metadata": {},
   "source": [
    "I also want to look at apportionment of electoral votes (based off house seat apportionment, save DC who has electoral votes but no house seats). While I did pull in data from the Census Bureau for their apportionment, I need to make my own calculations for 2020 apportionment predictions, so this is a good opportunity to test my algorithms against the Census's process.\n",
    "\n",
    "While the reapportionment will not be enacted until after the 2020 election takes place (reapportionment usually happens in January of the 3rd year after the census takes place), it will be extremely important for the 2024 election."
   ]
  },
  {
   "cell_type": "code",
   "execution_count": 77,
   "metadata": {},
   "outputs": [
    {
     "data": {
      "text/plain": [
       "{'Alabama': {'Population': 4802982,\n",
       "  'House_seats': 1,\n",
       "  'Priority_value': 3396221},\n",
       " 'Alaska': {'Population': 721523, 'House_seats': 1, 'Priority_value': 510194},\n",
       " 'Arizona': {'Population': 6412700,\n",
       "  'House_seats': 1,\n",
       "  'Priority_value': 4534464},\n",
       " 'Arkansas': {'Population': 2926229,\n",
       "  'House_seats': 1,\n",
       "  'Priority_value': 2069156},\n",
       " 'California': {'Population': 37341989,\n",
       "  'House_seats': 1,\n",
       "  'Priority_value': 26404774},\n",
       " 'Colorado': {'Population': 5044930,\n",
       "  'House_seats': 1,\n",
       "  'Priority_value': 3567304},\n",
       " 'Connecticut': {'Population': 3581628,\n",
       "  'House_seats': 1,\n",
       "  'Priority_value': 2532593},\n",
       " 'Delaware': {'Population': 900877,\n",
       "  'House_seats': 1,\n",
       "  'Priority_value': 637016},\n",
       " 'Florida': {'Population': 18900773,\n",
       "  'House_seats': 1,\n",
       "  'Priority_value': 13364865},\n",
       " 'Georgia': {'Population': 9727566,\n",
       "  'House_seats': 1,\n",
       "  'Priority_value': 6878428},\n",
       " 'Hawaii': {'Population': 1366862, 'House_seats': 1, 'Priority_value': 966517},\n",
       " 'Idaho': {'Population': 1573499, 'House_seats': 1, 'Priority_value': 1112632},\n",
       " 'Illinois': {'Population': 12864380,\n",
       "  'House_seats': 1,\n",
       "  'Priority_value': 9096490},\n",
       " 'Indiana': {'Population': 6501582,\n",
       "  'House_seats': 1,\n",
       "  'Priority_value': 4597313},\n",
       " 'Iowa': {'Population': 3053787, 'House_seats': 1, 'Priority_value': 2159353},\n",
       " 'Kansas': {'Population': 2863813,\n",
       "  'House_seats': 1,\n",
       "  'Priority_value': 2025022},\n",
       " 'Kentucky': {'Population': 4350606,\n",
       "  'House_seats': 1,\n",
       "  'Priority_value': 3076343},\n",
       " 'Louisiana': {'Population': 4553962,\n",
       "  'House_seats': 1,\n",
       "  'Priority_value': 3220137},\n",
       " 'Maine': {'Population': 1333074, 'House_seats': 1, 'Priority_value': 942626},\n",
       " 'Maryland': {'Population': 5789929,\n",
       "  'House_seats': 1,\n",
       "  'Priority_value': 4094098},\n",
       " 'Massachusetts': {'Population': 6559644,\n",
       "  'House_seats': 1,\n",
       "  'Priority_value': 4638369},\n",
       " 'Michigan': {'Population': 9911626,\n",
       "  'House_seats': 1,\n",
       "  'Priority_value': 7008578},\n",
       " 'Minnesota': {'Population': 5314879,\n",
       "  'House_seats': 1,\n",
       "  'Priority_value': 3758187},\n",
       " 'Mississippi': {'Population': 2978240,\n",
       "  'House_seats': 1,\n",
       "  'Priority_value': 2105934},\n",
       " 'Missouri': {'Population': 6011478,\n",
       "  'House_seats': 1,\n",
       "  'Priority_value': 4250757},\n",
       " 'Montana': {'Population': 994416, 'House_seats': 1, 'Priority_value': 703158},\n",
       " 'Nebraska': {'Population': 1831825,\n",
       "  'House_seats': 1,\n",
       "  'Priority_value': 1295296},\n",
       " 'Nevada': {'Population': 2709432,\n",
       "  'House_seats': 1,\n",
       "  'Priority_value': 1915858},\n",
       " 'New Hampshire': {'Population': 1321445,\n",
       "  'House_seats': 1,\n",
       "  'Priority_value': 934403},\n",
       " 'New Jersey': {'Population': 8807501,\n",
       "  'House_seats': 1,\n",
       "  'Priority_value': 6227844},\n",
       " 'New Mexico': {'Population': 2067273,\n",
       "  'House_seats': 1,\n",
       "  'Priority_value': 1461783},\n",
       " 'New York': {'Population': 19421055,\n",
       "  'House_seats': 1,\n",
       "  'Priority_value': 13732760},\n",
       " 'North Carolina': {'Population': 9565781,\n",
       "  'House_seats': 1,\n",
       "  'Priority_value': 6764029},\n",
       " 'North Dakota': {'Population': 675905,\n",
       "  'House_seats': 1,\n",
       "  'Priority_value': 477937},\n",
       " 'Ohio': {'Population': 11568495, 'House_seats': 1, 'Priority_value': 8180161},\n",
       " 'Oklahoma': {'Population': 3764882,\n",
       "  'House_seats': 1,\n",
       "  'Priority_value': 2662174},\n",
       " 'Oregon': {'Population': 3848606,\n",
       "  'House_seats': 1,\n",
       "  'Priority_value': 2721375},\n",
       " 'Pennsylvania': {'Population': 12734905,\n",
       "  'House_seats': 1,\n",
       "  'Priority_value': 9004938},\n",
       " 'Rhode Island': {'Population': 1055247,\n",
       "  'House_seats': 1,\n",
       "  'Priority_value': 746172},\n",
       " 'South Carolina': {'Population': 4645975,\n",
       "  'House_seats': 1,\n",
       "  'Priority_value': 3285200},\n",
       " 'South Dakota': {'Population': 819761,\n",
       "  'House_seats': 1,\n",
       "  'Priority_value': 579659},\n",
       " 'Tennessee': {'Population': 6375431,\n",
       "  'House_seats': 1,\n",
       "  'Priority_value': 4508110},\n",
       " 'Texas': {'Population': 25268418,\n",
       "  'House_seats': 1,\n",
       "  'Priority_value': 17867470},\n",
       " 'Utah': {'Population': 2770765, 'House_seats': 1, 'Priority_value': 1959227},\n",
       " 'Vermont': {'Population': 630337, 'House_seats': 1, 'Priority_value': 445716},\n",
       " 'Virginia': {'Population': 8037736,\n",
       "  'House_seats': 1,\n",
       "  'Priority_value': 5683538},\n",
       " 'Washington': {'Population': 6753369,\n",
       "  'House_seats': 1,\n",
       "  'Priority_value': 4775353},\n",
       " 'West Virginia': {'Population': 1859815,\n",
       "  'House_seats': 1,\n",
       "  'Priority_value': 1315088},\n",
       " 'Wisconsin': {'Population': 5698230,\n",
       "  'House_seats': 1,\n",
       "  'Priority_value': 4029257},\n",
       " 'Wyoming': {'Population': 568300, 'House_seats': 1, 'Priority_value': 401849}}"
      ]
     },
     "metadata": {},
     "output_type": "display_data"
    },
    {
     "data": {
      "text/plain": [
       "50"
      ]
     },
     "metadata": {},
     "output_type": "display_data"
    }
   ],
   "source": [
    "# init dictionary for states and their populations, house seats, and priority value\n",
    "state_dict = {}\n",
    "\n",
    "# query database and put data to manipulate in dictionary\n",
    "c.execute('SELECT state, (pop + overseas_pop) as total_pop \\\n",
    "           FROM population \\\n",
    "           WHERE year = 2010 AND state NOT IN (\"District of Columbia\", \"Puerto Rico\") \\\n",
    "           ORDER BY state')\n",
    "for state in c.fetchall():\n",
    "    state_dict.update({state[0]: {'Population': state[1],\n",
    "                                  'House_seats': 1,\n",
    "                                  'Priority_value': priority_value(state[1], 2)}})\n",
    "    \n",
    "display(state_dict)\n",
    "display(len(state_dict.keys()))"
   ]
  },
  {
   "cell_type": "code",
   "execution_count": 78,
   "metadata": {},
   "outputs": [],
   "source": [
    "# creates a dictionary with house seats properly distributed\n",
    "apportioned_dict = distribute_house_seats(state_dict)"
   ]
  },
  {
   "cell_type": "code",
   "execution_count": 119,
   "metadata": {},
   "outputs": [
    {
     "data": {
      "text/html": [
       "<div>\n",
       "<style scoped>\n",
       "    .dataframe tbody tr th:only-of-type {\n",
       "        vertical-align: middle;\n",
       "    }\n",
       "\n",
       "    .dataframe tbody tr th {\n",
       "        vertical-align: top;\n",
       "    }\n",
       "\n",
       "    .dataframe thead th {\n",
       "        text-align: right;\n",
       "    }\n",
       "</style>\n",
       "<table border=\"1\" class=\"dataframe\">\n",
       "  <thead>\n",
       "    <tr style=\"text-align: right;\">\n",
       "      <th></th>\n",
       "      <th>House_seats</th>\n",
       "    </tr>\n",
       "    <tr>\n",
       "      <th>State</th>\n",
       "      <th></th>\n",
       "    </tr>\n",
       "  </thead>\n",
       "  <tbody>\n",
       "    <tr>\n",
       "      <td>Alabama</td>\n",
       "      <td>7</td>\n",
       "    </tr>\n",
       "    <tr>\n",
       "      <td>Alaska</td>\n",
       "      <td>1</td>\n",
       "    </tr>\n",
       "    <tr>\n",
       "      <td>Arizona</td>\n",
       "      <td>9</td>\n",
       "    </tr>\n",
       "    <tr>\n",
       "      <td>Arkansas</td>\n",
       "      <td>4</td>\n",
       "    </tr>\n",
       "    <tr>\n",
       "      <td>California</td>\n",
       "      <td>53</td>\n",
       "    </tr>\n",
       "  </tbody>\n",
       "</table>\n",
       "</div>"
      ],
      "text/plain": [
       "            House_seats\n",
       "State                  \n",
       "Alabama               7\n",
       "Alaska                1\n",
       "Arizona               9\n",
       "Arkansas              4\n",
       "California           53"
      ]
     },
     "metadata": {},
     "output_type": "display_data"
    },
    {
     "name": "stdout",
     "output_type": "stream",
     "text": [
      "<class 'pandas.core.frame.DataFrame'>\n",
      "Index: 50 entries, Alabama to Wyoming\n",
      "Data columns (total 1 columns):\n",
      "House_seats    50 non-null int64\n",
      "dtypes: int64(1)\n",
      "memory usage: 800.0+ bytes\n"
     ]
    },
    {
     "data": {
      "text/plain": [
       "None"
      ]
     },
     "metadata": {},
     "output_type": "display_data"
    }
   ],
   "source": [
    "# reads census apportionment of house seats into pandas dataframe and cleans\n",
    "census_apportionment = pd.read_excel('ApportionmentPopulation2010.xls', skiprows=10, usecols=[0,3])[:50]\n",
    "census_apportionment.columns = ['State','House_seats']\n",
    "census_apportionment['House_seats'] = census_apportionment.House_seats.astype('int64')\n",
    "\n",
    "#set the index to the state to make the following code block easier to parse through\n",
    "census_apportionment.set_index('State', inplace=True)\n",
    "\n",
    "display(census_apportionment.head())\n",
    "display(census_apportionment.info())"
   ]
  },
  {
   "cell_type": "code",
   "execution_count": 80,
   "metadata": {
    "scrolled": true
   },
   "outputs": [
    {
     "name": "stdout",
     "output_type": "stream",
     "text": [
      "State \t\t Calc \t Actual Match\n",
      "\n",
      "Alabama \t 7 \t 7 \t True\n",
      "Alaska \t\t 1 \t 1 \t True\n",
      "Arizona \t 9 \t 9 \t True\n",
      "Arkansas \t 4 \t 4 \t True\n",
      "California \t 53 \t 53 \t True\n",
      "Colorado \t 7 \t 7 \t True\n",
      "Connecticut \t 5 \t 5 \t True\n",
      "Delaware \t 1 \t 1 \t True\n",
      "Florida \t 27 \t 27 \t True\n",
      "Georgia \t 14 \t 14 \t True\n",
      "Hawaii \t\t 2 \t 2 \t True\n",
      "Idaho \t\t 2 \t 2 \t True\n",
      "Illinois \t 18 \t 18 \t True\n",
      "Indiana \t 9 \t 9 \t True\n",
      "Iowa \t\t 4 \t 4 \t True\n",
      "Kansas \t\t 4 \t 4 \t True\n",
      "Kentucky \t 6 \t 6 \t True\n",
      "Louisiana \t 6 \t 6 \t True\n",
      "Maine \t\t 2 \t 2 \t True\n",
      "Maryland \t 8 \t 8 \t True\n",
      "Massachusetts \t 9 \t 9 \t True\n",
      "Michigan \t 14 \t 14 \t True\n",
      "Minnesota \t 8 \t 8 \t True\n",
      "Mississippi \t 4 \t 4 \t True\n",
      "Missouri \t 8 \t 8 \t True\n",
      "Montana \t 1 \t 1 \t True\n",
      "Nebraska \t 3 \t 3 \t True\n",
      "Nevada \t\t 4 \t 4 \t True\n",
      "New Hampshire \t 2 \t 2 \t True\n",
      "New Jersey \t 12 \t 12 \t True\n",
      "New Mexico \t 3 \t 3 \t True\n",
      "New York \t 27 \t 27 \t True\n",
      "North Carolina \t 13 \t 13 \t True\n",
      "North Dakota \t 1 \t 1 \t True\n",
      "Ohio \t\t 16 \t 16 \t True\n",
      "Oklahoma \t 5 \t 5 \t True\n",
      "Oregon \t\t 5 \t 5 \t True\n",
      "Pennsylvania \t 18 \t 18 \t True\n",
      "Rhode Island \t 2 \t 2 \t True\n",
      "South Carolina \t 7 \t 7 \t True\n",
      "South Dakota \t 1 \t 1 \t True\n",
      "Tennessee \t 9 \t 9 \t True\n",
      "Texas \t\t 36 \t 36 \t True\n",
      "Utah \t\t 4 \t 4 \t True\n",
      "Vermont \t 1 \t 1 \t True\n",
      "Virginia \t 11 \t 11 \t True\n",
      "Washington \t 10 \t 10 \t True\n",
      "West Virginia \t 3 \t 3 \t True\n",
      "Wisconsin \t 8 \t 8 \t True\n",
      "Wyoming \t 1 \t 1 \t True\n"
     ]
    }
   ],
   "source": [
    "# prints out the state, the calculated house seats through my code, the actual assigned seats according\n",
    "# to the census bureau, and if they match (to check that my math matches theirs)\n",
    "\n",
    "print('State', '\\t\\t', 'Calc', '\\t', 'Actual', 'Match')\n",
    "print()\n",
    "for state in apportioned_dict.keys():\n",
    "    if len(state) <= 6:\n",
    "        print(state, '\\t\\t', apportioned_dict[state]['House_seats'], '\\t', census_apportionment.loc[state][0], \n",
    "              '\\t', apportioned_dict[state]['House_seats'] == census_apportionment.loc[state][0])\n",
    "    else:\n",
    "        print(state, '\\t', apportioned_dict[state]['House_seats'], '\\t', census_apportionment.loc[state][0], \n",
    "              '\\t', apportioned_dict[state]['House_seats'] == census_apportionment.loc[state][0]) "
   ]
  },
  {
   "cell_type": "markdown",
   "metadata": {},
   "source": [
    "### The apportionment algorithm works!!"
   ]
  },
  {
   "cell_type": "code",
   "execution_count": 125,
   "metadata": {
    "scrolled": true
   },
   "outputs": [
    {
     "data": {
      "text/html": [
       "<div>\n",
       "<style scoped>\n",
       "    .dataframe tbody tr th:only-of-type {\n",
       "        vertical-align: middle;\n",
       "    }\n",
       "\n",
       "    .dataframe tbody tr th {\n",
       "        vertical-align: top;\n",
       "    }\n",
       "\n",
       "    .dataframe thead th {\n",
       "        text-align: right;\n",
       "    }\n",
       "</style>\n",
       "<table border=\"1\" class=\"dataframe\">\n",
       "  <thead>\n",
       "    <tr style=\"text-align: right;\">\n",
       "      <th></th>\n",
       "      <th>State</th>\n",
       "      <th>Electoral_votes</th>\n",
       "    </tr>\n",
       "  </thead>\n",
       "  <tbody>\n",
       "    <tr>\n",
       "      <td>0</td>\n",
       "      <td>Alabama</td>\n",
       "      <td>9</td>\n",
       "    </tr>\n",
       "    <tr>\n",
       "      <td>1</td>\n",
       "      <td>Alaska</td>\n",
       "      <td>3</td>\n",
       "    </tr>\n",
       "    <tr>\n",
       "      <td>2</td>\n",
       "      <td>Arizona</td>\n",
       "      <td>11</td>\n",
       "    </tr>\n",
       "    <tr>\n",
       "      <td>3</td>\n",
       "      <td>Arkansas</td>\n",
       "      <td>6</td>\n",
       "    </tr>\n",
       "    <tr>\n",
       "      <td>4</td>\n",
       "      <td>California</td>\n",
       "      <td>55</td>\n",
       "    </tr>\n",
       "    <tr>\n",
       "      <td>5</td>\n",
       "      <td>Colorado</td>\n",
       "      <td>9</td>\n",
       "    </tr>\n",
       "    <tr>\n",
       "      <td>6</td>\n",
       "      <td>Connecticut</td>\n",
       "      <td>7</td>\n",
       "    </tr>\n",
       "    <tr>\n",
       "      <td>7</td>\n",
       "      <td>Delaware</td>\n",
       "      <td>3</td>\n",
       "    </tr>\n",
       "    <tr>\n",
       "      <td>8</td>\n",
       "      <td>District of Columbia</td>\n",
       "      <td>3</td>\n",
       "    </tr>\n",
       "    <tr>\n",
       "      <td>9</td>\n",
       "      <td>Florida</td>\n",
       "      <td>29</td>\n",
       "    </tr>\n",
       "  </tbody>\n",
       "</table>\n",
       "</div>"
      ],
      "text/plain": [
       "                  State  Electoral_votes\n",
       "0               Alabama                9\n",
       "1                Alaska                3\n",
       "2               Arizona               11\n",
       "3              Arkansas                6\n",
       "4            California               55\n",
       "5              Colorado                9\n",
       "6           Connecticut                7\n",
       "7              Delaware                3\n",
       "8  District of Columbia                3\n",
       "9               Florida               29"
      ]
     },
     "metadata": {},
     "output_type": "display_data"
    },
    {
     "data": {
      "text/html": [
       "<div>\n",
       "<style scoped>\n",
       "    .dataframe tbody tr th:only-of-type {\n",
       "        vertical-align: middle;\n",
       "    }\n",
       "\n",
       "    .dataframe tbody tr th {\n",
       "        vertical-align: top;\n",
       "    }\n",
       "\n",
       "    .dataframe thead th {\n",
       "        text-align: right;\n",
       "    }\n",
       "</style>\n",
       "<table border=\"1\" class=\"dataframe\">\n",
       "  <thead>\n",
       "    <tr style=\"text-align: right;\">\n",
       "      <th></th>\n",
       "      <th>State</th>\n",
       "      <th>Electoral_votes</th>\n",
       "    </tr>\n",
       "  </thead>\n",
       "  <tbody>\n",
       "    <tr>\n",
       "      <td>46</td>\n",
       "      <td>Virginia</td>\n",
       "      <td>13</td>\n",
       "    </tr>\n",
       "    <tr>\n",
       "      <td>47</td>\n",
       "      <td>Washington</td>\n",
       "      <td>12</td>\n",
       "    </tr>\n",
       "    <tr>\n",
       "      <td>48</td>\n",
       "      <td>West Virginia</td>\n",
       "      <td>5</td>\n",
       "    </tr>\n",
       "    <tr>\n",
       "      <td>49</td>\n",
       "      <td>Wisconsin</td>\n",
       "      <td>10</td>\n",
       "    </tr>\n",
       "    <tr>\n",
       "      <td>50</td>\n",
       "      <td>Wyoming</td>\n",
       "      <td>3</td>\n",
       "    </tr>\n",
       "  </tbody>\n",
       "</table>\n",
       "</div>"
      ],
      "text/plain": [
       "            State  Electoral_votes\n",
       "46       Virginia               13\n",
       "47     Washington               12\n",
       "48  West Virginia                5\n",
       "49      Wisconsin               10\n",
       "50        Wyoming                3"
      ]
     },
     "metadata": {},
     "output_type": "display_data"
    },
    {
     "name": "stdout",
     "output_type": "stream",
     "text": [
      "<class 'pandas.core.frame.DataFrame'>\n",
      "RangeIndex: 51 entries, 0 to 50\n",
      "Data columns (total 2 columns):\n",
      "State              51 non-null object\n",
      "Electoral_votes    51 non-null int64\n",
      "dtypes: int64(1), object(1)\n",
      "memory usage: 944.0+ bytes\n"
     ]
    },
    {
     "data": {
      "text/plain": [
       "None"
      ]
     },
     "metadata": {},
     "output_type": "display_data"
    }
   ],
   "source": [
    "electoral_votes = census_apportionment.reset_index()\n",
    "electoral_votes = electoral_votes.append(pd.Series({'State':'District of Columbia', \n",
    "                                                    'House_seats': 1}), ignore_index=True)\n",
    "electoral_votes['Electoral_votes'] = electoral_votes.House_seats.apply(lambda x: x+2)\n",
    "electoral_votes.drop('House_seats', axis=1, inplace=True)\n",
    "\n",
    "electoral_votes = electoral_votes.sort_values('State').reset_index(drop=True)\n",
    "\n",
    "display(electoral_votes.head())\n",
    "display(electoral_votes.tail())\n",
    "display(electoral_votes.info())\n",
    "\n",
    "electoral_votes.to_csv('cleaned_electoral_votes_2010.csv', index=False)"
   ]
  },
  {
   "cell_type": "code",
   "execution_count": null,
   "metadata": {},
   "outputs": [],
   "source": []
  },
  {
   "cell_type": "code",
   "execution_count": 126,
   "metadata": {},
   "outputs": [
    {
     "ename": "ProgrammingError",
     "evalue": "Cannot operate on a closed database.",
     "output_type": "error",
     "traceback": [
      "\u001b[0;31m---------------------------------------------------------------------------\u001b[0m",
      "\u001b[0;31mProgrammingError\u001b[0m                          Traceback (most recent call last)",
      "\u001b[0;32m<ipython-input-126-c70a3be8200e>\u001b[0m in \u001b[0;36m<module>\u001b[0;34m\u001b[0m\n\u001b[0;32m----> 1\u001b[0;31m \u001b[0mc\u001b[0m\u001b[0;34m.\u001b[0m\u001b[0mclose\u001b[0m\u001b[0;34m(\u001b[0m\u001b[0;34m)\u001b[0m\u001b[0;34m\u001b[0m\u001b[0;34m\u001b[0m\u001b[0m\n\u001b[0m\u001b[1;32m      2\u001b[0m \u001b[0mconn\u001b[0m\u001b[0;34m.\u001b[0m\u001b[0mclose\u001b[0m\u001b[0;34m(\u001b[0m\u001b[0;34m)\u001b[0m\u001b[0;34m\u001b[0m\u001b[0;34m\u001b[0m\u001b[0m\n",
      "\u001b[0;31mProgrammingError\u001b[0m: Cannot operate on a closed database."
     ]
    }
   ],
   "source": [
    "c.close()\n",
    "conn.close()"
   ]
  },
  {
   "cell_type": "code",
   "execution_count": null,
   "metadata": {},
   "outputs": [],
   "source": []
  },
  {
   "cell_type": "code",
   "execution_count": null,
   "metadata": {},
   "outputs": [],
   "source": []
  },
  {
   "cell_type": "code",
   "execution_count": null,
   "metadata": {},
   "outputs": [],
   "source": []
  }
 ],
 "metadata": {
  "kernelspec": {
   "display_name": "Python 3",
   "language": "python",
   "name": "python3"
  },
  "language_info": {
   "codemirror_mode": {
    "name": "ipython",
    "version": 3
   },
   "file_extension": ".py",
   "mimetype": "text/x-python",
   "name": "python",
   "nbconvert_exporter": "python",
   "pygments_lexer": "ipython3",
   "version": "3.7.4"
  }
 },
 "nbformat": 4,
 "nbformat_minor": 2
}
