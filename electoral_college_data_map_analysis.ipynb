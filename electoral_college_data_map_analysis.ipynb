{
 "cells": [
  {
   "cell_type": "markdown",
   "metadata": {},
   "source": [
    "# Electoral College Data Analysis"
   ]
  },
  {
   "cell_type": "markdown",
   "metadata": {},
   "source": [
    "The purpose of this project is to analyze the how the electoral college votes were distributed after the 2010 census, look at how the redistribution of population (by estimate) has shifted over time until today, and what that means for the voter per electoral college vote in each state. I will also analyze how we expect the electoral college to be redistributed after the 2020 census, given census bureau predictions.\n",
    "\n",
    "An analysis will also be performed on the percentage likelihood of each state giving its electoral college votes to a particular party and their respective nominees, based purely on historical data. The aim is to demonstrate which states have the greatest power per vote, given both their current electoral votes allotted and the likelihood of that state assigning thier votes to either candidate."
   ]
  },
  {
   "cell_type": "markdown",
   "metadata": {},
   "source": [
    "### Vizualizations\n",
    "- viz of state pops over time (5 lowest, 5 highest)\n",
    "- animation of voter potency (voters / electoral vote)\n",
    "- electoral votes w/ new census\n",
    "- voter potency w/ new census\n",
    "- guaranteed (statistically) electoral votes for each party\n",
    "- swing states and leanings and votes"
   ]
  },
  {
   "cell_type": "markdown",
   "metadata": {},
   "source": [
    "## Pull Data for Analysis"
   ]
  },
  {
   "cell_type": "code",
   "execution_count": null,
   "metadata": {},
   "outputs": [],
   "source": [
    "conn = sqlite3.connect('census_pop_data.db')\n",
    "c = conn.cursor()"
   ]
  },
  {
   "cell_type": "code",
   "execution_count": null,
   "metadata": {},
   "outputs": [],
   "source": [
    "# init dictionary for states and their populations, house seats, and priority value\n",
    "state_dict = {}\n",
    "\n",
    "# query database and put data to manipulate in dictionary\n",
    "c.execute('SELECT state, (pop + overseas_pop) as total_pop \\\n",
    "           FROM population \\\n",
    "           WHERE year = 2010 AND state NOT IN (\"District of Columbia\", \"Puerto Rico\") \\\n",
    "           ORDER BY state')\n",
    "for state in c.fetchall():\n",
    "    state_dict.update({state[0]: {'Population': state[1],\n",
    "                                  'House_seats': 1,\n",
    "                                  'Priority_value': priority_value(state[1], 2)}})\n",
    "    \n",
    "display(state_dict)\n",
    "display(len(state_dict.keys()))"
   ]
  },
  {
   "cell_type": "code",
   "execution_count": null,
   "metadata": {},
   "outputs": [],
   "source": [
    "def distribute_house_seats(state_dict):\n",
    "    \"\"\"\n",
    "    Iterates through all available house seats after initial 50 are distributed (one to each state)\n",
    "    to determine who should get each next house seat according to priority value\n",
    "    \"\"\"\n",
    "        \n",
    "    distributed_dict = copy.deepcopy(state_dict)\n",
    "    #iterates over all available house seats, range chosen for actual house seat being evaluated\n",
    "    #whichever state is highest, add one house seat and recalculate the priority value\n",
    "    for i in range(51, 436):\n",
    "        next_state = assign_next_seat(distributed_dict)\n",
    "        distributed_dict[next_state]['House_seats'] += 1\n",
    "        distributed_dict[next_state]['Priority_value'] = priority_value(distributed_dict[next_state]['Population'], \n",
    "                                                                        distributed_dict[next_state]['House_seats']+1)\n",
    "    \n",
    "    #return the dictionary with properly distributed house seats    \n",
    "    return distributed_dict"
   ]
  },
  {
   "cell_type": "code",
   "execution_count": null,
   "metadata": {},
   "outputs": [],
   "source": [
    "def assign_next_seat(distributed_dict):\n",
    "    \"\"\"\n",
    "    Assigns the next house seat available according to current priority values for each state\n",
    "    Returns a list with the first value as the state who should get the next seat\n",
    "    \"\"\"\n",
    "    top_value = [\"\",0]\n",
    "    \n",
    "    #iterate through the dictionary keys and keep the state and value for whoever has the \n",
    "    #highest priority value\n",
    "    for state in distributed_dict.keys():\n",
    "        if distributed_dict[state]['Priority_value'] > top_value[1]:\n",
    "            top_value = [state, distributed_dict[state]['Priority_value']]  \n",
    "    \n",
    "    #return just the state with the top priority value\n",
    "    return top_value[0]"
   ]
  },
  {
   "cell_type": "code",
   "execution_count": null,
   "metadata": {},
   "outputs": [],
   "source": [
    "# creates a dictionary with house seats properly distributed\n",
    "apportioned_dict = distribute_house_seats(state_dict)"
   ]
  },
  {
   "cell_type": "code",
   "execution_count": null,
   "metadata": {},
   "outputs": [],
   "source": [
    "# reads census apportionment of house seats into pandas dataframe and cleans\n",
    "census_apportionment = pd.read_excel('ApportionmentPopulation2010.xls', skiprows=10, usecols=[0,3])[:50]\n",
    "census_apportionment.columns = ['State','House_seats']\n",
    "census_apportionment['House_seats'] = census_apportionment.House_seats.astype('int64')\n",
    "census_apportionment.set_index('State', inplace=True)\n",
    "\n",
    "display(census_apportionment.head())\n",
    "display(census_apportionment.info())"
   ]
  },
  {
   "cell_type": "code",
   "execution_count": null,
   "metadata": {},
   "outputs": [],
   "source": [
    "# prints out the state, the calculated house seats through my code, the actual assigned seats according\n",
    "# to the census bureau, and if they match (to check that my math matches theirs)\n",
    "\n",
    "print('State', '\\t\\t', 'Calc', '\\t', 'Actual', 'Match')\n",
    "print()\n",
    "for state in apportioned_dict.keys():\n",
    "    if len(state) <= 6:\n",
    "        print(state, '\\t\\t', apportioned_dict[state]['House_seats'], '\\t', census_apportionment.loc[state][0], \n",
    "              '\\t', apportioned_dict[state]['House_seats'] == census_apportionment.loc[state][0])\n",
    "    else:\n",
    "        print(state, '\\t', apportioned_dict[state]['House_seats'], '\\t', census_apportionment.loc[state][0], \n",
    "              '\\t', apportioned_dict[state]['House_seats'] == census_apportionment.loc[state][0]) "
   ]
  },
  {
   "cell_type": "code",
   "execution_count": null,
   "metadata": {},
   "outputs": [],
   "source": []
  },
  {
   "cell_type": "code",
   "execution_count": null,
   "metadata": {},
   "outputs": [],
   "source": []
  },
  {
   "cell_type": "code",
   "execution_count": null,
   "metadata": {},
   "outputs": [],
   "source": []
  },
  {
   "cell_type": "code",
   "execution_count": null,
   "metadata": {},
   "outputs": [],
   "source": []
  },
  {
   "cell_type": "code",
   "execution_count": null,
   "metadata": {},
   "outputs": [],
   "source": []
  }
 ],
 "metadata": {
  "kernelspec": {
   "display_name": "Python 3",
   "language": "python",
   "name": "python3"
  },
  "language_info": {
   "codemirror_mode": {
    "name": "ipython",
    "version": 3
   },
   "file_extension": ".py",
   "mimetype": "text/x-python",
   "name": "python",
   "nbconvert_exporter": "python",
   "pygments_lexer": "ipython3",
   "version": "3.7.4"
  }
 },
 "nbformat": 4,
 "nbformat_minor": 2
}
