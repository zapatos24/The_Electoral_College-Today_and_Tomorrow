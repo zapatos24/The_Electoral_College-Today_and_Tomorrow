{
 "cells": [
  {
   "cell_type": "markdown",
   "metadata": {},
   "source": [
    "# Electoral College Data Mapping"
   ]
  },
  {
   "cell_type": "markdown",
   "metadata": {},
   "source": [
    "The purpose of this project is to analyze the how the electoral college votes were distributed after the 2010 census, look at how the redistribution of population (by estimate) has shifted over time until today, and what that means for the voter per electoral college vote in each state. I will also analyze how we expect the electoral college to be redistributed after the 2020 census, given census bureau predictions.\n",
    "\n",
    "An analysis will also be performed on the percentage likelihood of each state giving its electoral college votes to a particular party and their respective nominees, based purely on historical data. The aim is to demonstrate which states have the greatest power per vote, given both their current electoral votes allotted and the likelihood of that state assigning thier votes to either candidate."
   ]
  },
  {
   "cell_type": "code",
   "execution_count": 1,
   "metadata": {},
   "outputs": [],
   "source": [
    "#import necessary libraries\n",
    "\n",
    "import pandas as pd\n",
    "import numpy as np\n",
    "import matplotlib.pyplot as plt\n",
    "\n",
    "import requests\n",
    "import json\n",
    "%matplotlib inline"
   ]
  },
  {
   "cell_type": "code",
   "execution_count": 2,
   "metadata": {},
   "outputs": [],
   "source": [
    "#define how to retrieve api keys\n",
    "\n",
    "def get_keys(path):\n",
    "    with open(path) as f:\n",
    "        return json.load(f)"
   ]
  },
  {
   "cell_type": "code",
   "execution_count": 3,
   "metadata": {},
   "outputs": [],
   "source": [
    "#get key for census bureau api\n",
    "keys = get_keys(\"/Users/flatironschool/.secret/census_api.json\")\n",
    "\n",
    "api_key = keys['api_key']"
   ]
  },
  {
   "cell_type": "code",
   "execution_count": 5,
   "metadata": {},
   "outputs": [
    {
     "name": "stdout",
     "output_type": "stream",
     "text": [
      "https://api.census.gov/data/2019/pep/population?get=DATE_CODE%2CDATE_DESC%2CPOP%2CNAME&for=state%3A%2A&key=b7961d22ec04ff1777be8a0450921d3f28af8315\n",
      "<Response [200]>\n",
      "<class 'str'>\n",
      "[[\"DATE_CODE\",\"DATE_DESC\",\"POP\",\"NAME\",\"state\"],\n",
      "[\"1\",\"4/1/2010 Census population\",\"5303925\",\"Minnesota\",\"27\"],\n",
      "[\"2\",\"4/1/2010 population estimates base\",\"5303927\",\"Minnesota\",\"27\"],\n",
      "[\"3\",\"7/1/2010 population estimate\",\"5310828\",\"Minnesota\",\"27\"],\n",
      "[\"4\",\"7/1/2011 population estimate\",\"5346143\",\"Minnesota\",\"27\"],\n",
      "[\"5\",\"7/1/2012 population estimate\",\"5376643\",\"Minnesota\",\"27\"],\n",
      "[\"6\",\"7/1/2013 population estimate\",\"5413479\",\"Minnesota\",\"27\"],\n",
      "[\"7\",\"7/1/2014 population estimate\",\"5451079\",\"Minnesota\",\"27\"],\n",
      "[\"8\",\"7/1/2015 population estimate\",\"5482032\",\"Minnesota\",\"27\"],\n",
      "[\"9\",\"7/1/2016 population estimate\",\"5522744\",\"Minnesota\",\"27\"],\n",
      "[\"10\",\"7/1/2017 population estimate\",\"5566230\",\"Minnesota\",\"27\"],\n",
      "[\"11\",\"7/1/2018 population estimate\",\"5606249\",\"Minnesota\",\"27\"],\n",
      "[\"12\",\"7/1/2019 population estimate\",\"5639632\",\"Minnesota\",\"27\"],\n",
      "[\"1\",\"4/1/2010 Census population\",\"2967297\",\"Mississippi\",\"28\"],\n",
      "[\"2\",\"4/1/2010 population estimates base\",\"2968130\",\"Mississippi\",\"28\"],\n",
      "[\"3\",\"7/1/2010 population \n"
     ]
    }
   ],
   "source": [
    "#make and print request for census count and estimates from 2010-2019 for all states\n",
    "year = '2019'\n",
    "\n",
    "url = 'https://api.census.gov/data/{}/pep/population'.format(year)\n",
    "\n",
    "variables = ['DATE_CODE',\n",
    "             'DATE_DESC',\n",
    "             'POP',\n",
    "             'NAME']\n",
    "\n",
    "granularity = 'state:*'\n",
    "\n",
    "params = {'get': ','.join(variables), 'for': granularity, 'key': api_key}\n",
    "\n",
    "r = requests.get(url, params=params)\n",
    "print(r.url)\n",
    "print(r)\n",
    "print(type(r.text))\n",
    "print(r.text[:1000])"
   ]
  },
  {
   "cell_type": "code",
   "execution_count": 14,
   "metadata": {},
   "outputs": [
    {
     "data": {
      "text/html": [
       "<div>\n",
       "<style scoped>\n",
       "    .dataframe tbody tr th:only-of-type {\n",
       "        vertical-align: middle;\n",
       "    }\n",
       "\n",
       "    .dataframe tbody tr th {\n",
       "        vertical-align: top;\n",
       "    }\n",
       "\n",
       "    .dataframe thead th {\n",
       "        text-align: right;\n",
       "    }\n",
       "</style>\n",
       "<table border=\"1\" class=\"dataframe\">\n",
       "  <thead>\n",
       "    <tr style=\"text-align: right;\">\n",
       "      <th></th>\n",
       "      <th>POP</th>\n",
       "      <th>NAME</th>\n",
       "      <th>DATETIME</th>\n",
       "    </tr>\n",
       "  </thead>\n",
       "  <tbody>\n",
       "    <tr>\n",
       "      <td>0</td>\n",
       "      <td>5303925</td>\n",
       "      <td>Minnesota</td>\n",
       "      <td>2010-04-01</td>\n",
       "    </tr>\n",
       "    <tr>\n",
       "      <td>1</td>\n",
       "      <td>5310828</td>\n",
       "      <td>Minnesota</td>\n",
       "      <td>2010-07-01</td>\n",
       "    </tr>\n",
       "    <tr>\n",
       "      <td>2</td>\n",
       "      <td>5346143</td>\n",
       "      <td>Minnesota</td>\n",
       "      <td>2011-07-01</td>\n",
       "    </tr>\n",
       "    <tr>\n",
       "      <td>3</td>\n",
       "      <td>5376643</td>\n",
       "      <td>Minnesota</td>\n",
       "      <td>2012-07-01</td>\n",
       "    </tr>\n",
       "    <tr>\n",
       "      <td>4</td>\n",
       "      <td>5413479</td>\n",
       "      <td>Minnesota</td>\n",
       "      <td>2013-07-01</td>\n",
       "    </tr>\n",
       "  </tbody>\n",
       "</table>\n",
       "</div>"
      ],
      "text/plain": [
       "       POP       NAME   DATETIME\n",
       "0  5303925  Minnesota 2010-04-01\n",
       "1  5310828  Minnesota 2010-07-01\n",
       "2  5346143  Minnesota 2011-07-01\n",
       "3  5376643  Minnesota 2012-07-01\n",
       "4  5413479  Minnesota 2013-07-01"
      ]
     },
     "execution_count": 14,
     "metadata": {},
     "output_type": "execute_result"
    }
   ],
   "source": [
    "#clean data (only need population, state, and datetime) with pandas before putting into SQL database\n",
    "data = r.json()\n",
    "df = pd.DataFrame(data[1:], columns=data[0])\n",
    "df['DATETIME'] = df.DATE_DESC.apply(lambda x: pd.to_datetime(x[:9]))\n",
    "df.drop(df[df.DATE_CODE == '2'].index, inplace=True)\n",
    "df.drop(['state','DATE_CODE', 'DATE_DESC'], axis=1, inplace=True)\n",
    "df.reset_index(drop=True, inplace=True)\n",
    "df.head()"
   ]
  },
  {
   "cell_type": "code",
   "execution_count": null,
   "metadata": {},
   "outputs": [],
   "source": []
  }
 ],
 "metadata": {
  "kernelspec": {
   "display_name": "Python 3",
   "language": "python",
   "name": "python3"
  },
  "language_info": {
   "codemirror_mode": {
    "name": "ipython",
    "version": 3
   },
   "file_extension": ".py",
   "mimetype": "text/x-python",
   "name": "python",
   "nbconvert_exporter": "python",
   "pygments_lexer": "ipython3",
   "version": "3.7.4"
  }
 },
 "nbformat": 4,
 "nbformat_minor": 2
}
